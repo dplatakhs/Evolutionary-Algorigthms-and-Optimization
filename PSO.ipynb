{
 "cells": [
  {
   "cell_type": "code",
   "execution_count": 1,
   "metadata": {},
   "outputs": [],
   "source": [
    "import numpy as np\n",
    "from dataclasses import dataclass\n",
    "import random\n",
    "import math"
   ]
  },
  {
   "cell_type": "code",
   "execution_count": 32,
   "metadata": {},
   "outputs": [],
   "source": [
    "def f(x,y):\n",
    "    # global minimum (1,3)=0\n",
    "    return (x + 2*y - 7)**2 + (2*x + y - 5)**2    "
   ]
  },
  {
   "cell_type": "code",
   "execution_count": 3,
   "metadata": {},
   "outputs": [],
   "source": [
    "@dataclass\n",
    "class individual:\n",
    "    x1: float\n",
    "    x2: float\n",
    "    l_best_1: float\n",
    "    l_best_2: float\n",
    "    v_value_1: float\n",
    "    v_value_2: float\n",
    "    r1: float\n",
    "    r2: float\n",
    "    pos: int"
   ]
  },
  {
   "cell_type": "code",
   "execution_count": 10,
   "metadata": {},
   "outputs": [],
   "source": [
    "def v_function(sample):\n",
    "    global c_local\n",
    "    global c_global\n",
    "    global swarm\n",
    "    global g_best_pos\n",
    "    v1 = sample.v_value_1 + c_local*sample.r1*(sample.l_best_1 - sample.x1) + c_global*sample.r2*(swarm[g_best_pos].x1 - sample.x1)\n",
    "    v2 = sample.v_value_2 + c_local*sample.r1*(sample.l_best_2 - sample.x2) + c_global*sample.r2*(swarm[g_best_pos].x2 - sample.x2)\n",
    "    return v1, v2"
   ]
  },
  {
   "cell_type": "code",
   "execution_count": 11,
   "metadata": {},
   "outputs": [],
   "source": [
    "def new_x(sample):\n",
    "    # find v(t+1)\n",
    "    v1, v2 = v_function(sample)\n",
    "    # find x(t+1)\n",
    "    x1 = sample.x1 + v1\n",
    "    x2 = sample.x2 + v2\n",
    "    return x1, x2, v1, v2"
   ]
  },
  {
   "cell_type": "code",
   "execution_count": 12,
   "metadata": {},
   "outputs": [],
   "source": [
    "def initialize(swarm_num):\n",
    "    swarm = []\n",
    "    for i in range(swarm_num):\n",
    "        # initialize sample\n",
    "        x1 = random.uniform(-1,1)\n",
    "        x2 = random.uniform(-1,1)\n",
    "        sample = individual(x1, x2,\n",
    "                       x1, x2,\n",
    "                       random.uniform(-1,1),random.uniform(-1,1),\n",
    "                        random.uniform(0,1),random.uniform(0,1),i)\n",
    "        # append to swarm list\n",
    "        swarm.append(sample)\n",
    "    return swarm"
   ]
  },
  {
   "cell_type": "code",
   "execution_count": 45,
   "metadata": {
    "scrolled": true
   },
   "outputs": [
    {
     "name": "stdout",
     "output_type": "stream",
     "text": [
      "Position of best sample: 0\n"
     ]
    }
   ],
   "source": [
    "global c_local\n",
    "global c_global\n",
    "global g_best_pos\n",
    "c_local = 1\n",
    "c_global = 2\n",
    "\n",
    "# get swarm\n",
    "global swarm\n",
    "\n",
    "# choose how many samples you want\n",
    "swarm_num = 20\n",
    "swarm = initialize(swarm_num)\n",
    "\n",
    "# initialize best value\n",
    "\n",
    "\n",
    "global g_best\n",
    "g_best = 999999999999\n",
    "\n",
    "# find the position of best value\n",
    "def find_best_position(sample):\n",
    "    global g_best_pos\n",
    "    global g_best\n",
    "    \n",
    "    for sample in swarm:\n",
    "        if(f(sample.x1, sample.x2) < g_best):\n",
    "            g_best_pos = sample.pos\n",
    "            g_best = f(sample.x1, sample.x2)\n",
    "\n",
    "find_best_position(sample)\n",
    "\n",
    "\n",
    "# initialize max_iter\n",
    "max_iter = 50\n",
    "for i in range(max_iter):\n",
    "    for sample in swarm:\n",
    "        x1, x2, v1, v2 = new_x(sample)\n",
    "        sample.x1 = x1\n",
    "        sample.x2 = x2\n",
    "        sample.v1 = v1\n",
    "        sample.v2 = v2\n",
    "        if(f(sample.x1, sample.x2) < f(sample.l_best_1, sample.l_best_2)):\n",
    "            sample.l_best_1 = x1\n",
    "            sample.l_best_2 = x2\n",
    "    find_best_position(sample)\n",
    "\n",
    "print(\"Position of best sample:\",g_best_pos)"
   ]
  },
  {
   "cell_type": "code",
   "execution_count": 46,
   "metadata": {},
   "outputs": [
    {
     "name": "stdout",
     "output_type": "stream",
     "text": [
      "Position: 0 -- x1: 0.37360623707909435 x2: 4.1202179369425185 and 2.622706631866478 away\n",
      "Position: 1 -- x1: -0.020461478858806947 x2: 4.530917996220849 and 4.427314965457096 away\n",
      "Position: 2 -- x1: -19538.93577696043 x2: -9294.60476269922 and 3794669521.9971604 away\n",
      "Position: 3 -- x1: -0.2963218634420461 x2: 4.716201941309117 and 5.330996596149671 away\n",
      "Position: 4 -- x1: -0.08011511889811795 x2: 4.739599664409743 and 5.9325351255614915 away\n",
      "Position: 5 -- x1: -3114909563.740126 x2: 2000408526.8905506 and 1.867274613918264e+19 away\n",
      "Position: 6 -- x1: -0.9102782859417197 x2: 2.2293701341916043 and 32.992107592297174 away\n",
      "Position: 7 -- x1: -0.10609311201510674 x2: 4.174278457671494 and 2.6209688340477313 away\n",
      "Position: 8 -- x1: -0.47517373450420275 x2: 5.077092816585691 and 7.939678441178239 away\n",
      "Position: 9 -- x1: -0.8973021312599029 x2: 3.232950078376824 and 14.734292140043614 away\n",
      "Position: 10 -- x1: 0.8366064523452811 x2: 4.105226596620754 and 4.7964212497917185 away\n",
      "Position: 11 -- x1: 0.260221101516907 x2: 4.086469021705371 and 2.208463919925796 away\n",
      "Position: 12 -- x1: 0.7837883977271382 x2: 4.113852365556769 and 4.510450308849473 away\n",
      "Position: 13 -- x1: 0.12879369490220663 x2: 3.394648696839898 and 1.8231766359135224 away\n",
      "Position: 14 -- x1: -97103.19251832284 x2: -60286.79597744115 and 112155554162.05576 away\n",
      "Position: 15 -- x1: -10256610.068384051 x2: 5275970.054827046 and 232261158130843.56 away\n",
      "Position: 16 -- x1: 0.3788294907881056 x2: 3.9436473582266776 and 1.692288410804765 away\n",
      "Position: 17 -- x1: -0.30148307036051497 x2: 3.4214793191131365 and 4.969129407712938 away\n",
      "Position: 18 -- x1: -1.7575285063961645 x2: 4.147578771036928 and 19.288653100855196 away\n",
      "Position: 19 -- x1: -1.0537684691626434 x2: -0.5873699450809089 and 144.3769584824135 away\n"
     ]
    }
   ],
   "source": [
    "counter = 0\n",
    "# global minimum (1,3)=0\n",
    "for sample in swarm:\n",
    "    print(\"Position:\",counter,\"--\",\"x1:\",sample.x1,\"x2:\",sample.x2,\"and\",abs(0-f(sample.x1, sample.x2)),\"away\")\n",
    "    counter += 1"
   ]
  },
  {
   "cell_type": "code",
   "execution_count": 36,
   "metadata": {},
   "outputs": [],
   "source": [
    "def printDescending(swarm):\n",
    "    function_values = []\n",
    "    for sample in swarm:\n",
    "        function_values.append(f(sample.x1, sample.x2))\n",
    "    \n",
    "    # argsort returns a list of index that point to the lowest value and then raise to the highest\n",
    "    # with reverse we flip the list so in the start we have the max value\n",
    "    index_values = np.argsort(function_values)\n",
    "    #index_values = np.flip(index_values)\n",
    "    \n",
    "    for index in index_values:\n",
    "        print(\"Position:\",index,\"x1 and x2:\",swarm[index].x1, swarm[index].x2, \"and value:\",\n",
    "              f(swarm[index].x1, swarm[index].x2))"
   ]
  },
  {
   "cell_type": "code",
   "execution_count": 37,
   "metadata": {},
   "outputs": [
    {
     "name": "stdout",
     "output_type": "stream",
     "text": [
      "Position: 13 x1 and x2: 1.5834602425690294 2.6078179262255583 and value: 0.6405819850783754\n",
      "Position: 12 x1 and x2: 1.6525749866507833 2.488395410385468 and value: 0.7670839806791566\n",
      "Position: 14 x1 and x2: 1.7834286217813133 2.318511083296184 and value: 1.1197543629014572\n",
      "Position: 1 x1 and x2: 1.5590547986283068 2.9102556579553505 and value: 1.2016055334334081\n",
      "Position: 18 x1 and x2: 1.8787182681400088 2.8561776646419914 and value: 2.953118786988912\n",
      "Position: 11 x1 and x2: 2.0650860681111327 2.588491537729317 and value: 3.0124022944293496\n",
      "Position: 6 x1 and x2: 2.145239180111656 1.66570803619186 and value: 3.2348716444393593\n",
      "Position: 7 x1 and x2: 2.1315950959150443 2.6044053624250245 and value: 3.6037892770842186\n",
      "Position: 9 x1 and x2: 2.24933006731037 2.862742437817783 and value: 6.526486282109963\n",
      "Position: 0 x1 and x2: 2.2283513667053474 0.3551047800501834 and value: 16.53070375725904\n",
      "Position: 17 x1 and x2: 3.2264427129305364 -0.3349158727965983 and value: 20.993562017165992\n",
      "Position: 10 x1 and x2: 2.6184774012037693 3.7715762123937155 and value: 26.064224053220713\n",
      "Position: 15 x1 and x2: 0.2932400761343794 0.7377181946446018 and value: 40.87826371624756\n",
      "Position: 16 x1 and x2: 5.640463657262446 2.125171830521693 and value: 79.01926978792349\n",
      "Position: 19 x1 and x2: 35.72853407148754 13.809737556734436 and value: 9617.85823634285\n",
      "Position: 5 x1 and x2: -1511.0358208644802 2861.968100303713 and value: 17716857.183713015\n",
      "Position: 8 x1 and x2: 6218.367659821582 -3557.4441356445122 and value: 79569393.5137427\n",
      "Position: 2 x1 and x2: 13570.176635555063 87326.2402872985 and value: 48526590018.97979\n",
      "Position: 3 x1 and x2: -704832.488805378 4557354.959933789 and value: 80633841415196.28\n",
      "Position: 4 x1 and x2: 24659733.38362272 -46500582.084323466 and value: 4678498201191125.0\n"
     ]
    }
   ],
   "source": [
    "printDescending(swarm)"
   ]
  }
 ],
 "metadata": {
  "kernelspec": {
   "display_name": "Python 3",
   "language": "python",
   "name": "python3"
  },
  "language_info": {
   "codemirror_mode": {
    "name": "ipython",
    "version": 3
   },
   "file_extension": ".py",
   "mimetype": "text/x-python",
   "name": "python",
   "nbconvert_exporter": "python",
   "pygments_lexer": "ipython3",
   "version": "3.8.5"
  }
 },
 "nbformat": 4,
 "nbformat_minor": 4
}
